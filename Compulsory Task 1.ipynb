{
 "cells": [
  {
   "cell_type": "markdown",
   "id": "f3781237-e3a7-4583-8277-355d2fafbbb4",
   "metadata": {},
   "source": [
    "This dataset is from the US Arrests Kaggle challenge. A description of the data is given as: “This data set contains statistics, in arrests per 100,000 residents, for assault, murder, and rape in each of the 50 US states in 1973. Also given is the percent of the population living in urban areas.”"
   ]
  },
  {
   "cell_type": "code",
   "execution_count": 54,
   "id": "95f3ac3d-e753-4525-a5e6-9b4b365359d7",
   "metadata": {},
   "outputs": [],
   "source": [
    "# Import libralies\n",
    "import pandas as pd\n",
    "import matplotlib.pyplot as plt\n",
    "import seaborn as sns\n",
    "from sklearn.decomposition import PCA\n",
    "from sklearn.preprocessing import StandardScaler\n",
    "from sklearn.cluster import KMeans\n",
    "from scipy.cluster.hierarchy import dendrogram, linkage, fcluster"
   ]
  },
  {
   "cell_type": "markdown",
   "id": "3e63772d-723e-4ffe-949a-f4f8620d0d44",
   "metadata": {},
   "source": [
    "Get a quick overview of the dataset(UsArrests.csv)."
   ]
  },
  {
   "cell_type": "code",
   "execution_count": 55,
   "id": "87712a03-4706-46d1-b157-b5e4c7454d0f",
   "metadata": {},
   "outputs": [
    {
     "data": {
      "text/html": [
       "<div>\n",
       "<style scoped>\n",
       "    .dataframe tbody tr th:only-of-type {\n",
       "        vertical-align: middle;\n",
       "    }\n",
       "\n",
       "    .dataframe tbody tr th {\n",
       "        vertical-align: top;\n",
       "    }\n",
       "\n",
       "    .dataframe thead th {\n",
       "        text-align: right;\n",
       "    }\n",
       "</style>\n",
       "<table border=\"1\" class=\"dataframe\">\n",
       "  <thead>\n",
       "    <tr style=\"text-align: right;\">\n",
       "      <th></th>\n",
       "      <th>City</th>\n",
       "      <th>Murder</th>\n",
       "      <th>Assault</th>\n",
       "      <th>UrbanPop</th>\n",
       "      <th>Rape</th>\n",
       "    </tr>\n",
       "  </thead>\n",
       "  <tbody>\n",
       "    <tr>\n",
       "      <th>0</th>\n",
       "      <td>Alabama</td>\n",
       "      <td>13.2</td>\n",
       "      <td>236</td>\n",
       "      <td>58</td>\n",
       "      <td>21.2</td>\n",
       "    </tr>\n",
       "    <tr>\n",
       "      <th>1</th>\n",
       "      <td>Alaska</td>\n",
       "      <td>10.0</td>\n",
       "      <td>263</td>\n",
       "      <td>48</td>\n",
       "      <td>44.5</td>\n",
       "    </tr>\n",
       "    <tr>\n",
       "      <th>2</th>\n",
       "      <td>Arizona</td>\n",
       "      <td>8.1</td>\n",
       "      <td>294</td>\n",
       "      <td>80</td>\n",
       "      <td>31.0</td>\n",
       "    </tr>\n",
       "    <tr>\n",
       "      <th>3</th>\n",
       "      <td>Arkansas</td>\n",
       "      <td>8.8</td>\n",
       "      <td>190</td>\n",
       "      <td>50</td>\n",
       "      <td>19.5</td>\n",
       "    </tr>\n",
       "    <tr>\n",
       "      <th>4</th>\n",
       "      <td>California</td>\n",
       "      <td>9.0</td>\n",
       "      <td>276</td>\n",
       "      <td>91</td>\n",
       "      <td>40.6</td>\n",
       "    </tr>\n",
       "    <tr>\n",
       "      <th>5</th>\n",
       "      <td>Colorado</td>\n",
       "      <td>7.9</td>\n",
       "      <td>204</td>\n",
       "      <td>78</td>\n",
       "      <td>38.7</td>\n",
       "    </tr>\n",
       "    <tr>\n",
       "      <th>6</th>\n",
       "      <td>Connecticut</td>\n",
       "      <td>3.3</td>\n",
       "      <td>110</td>\n",
       "      <td>77</td>\n",
       "      <td>11.1</td>\n",
       "    </tr>\n",
       "    <tr>\n",
       "      <th>7</th>\n",
       "      <td>Delaware</td>\n",
       "      <td>5.9</td>\n",
       "      <td>238</td>\n",
       "      <td>72</td>\n",
       "      <td>15.8</td>\n",
       "    </tr>\n",
       "    <tr>\n",
       "      <th>8</th>\n",
       "      <td>Florida</td>\n",
       "      <td>15.4</td>\n",
       "      <td>335</td>\n",
       "      <td>80</td>\n",
       "      <td>31.9</td>\n",
       "    </tr>\n",
       "    <tr>\n",
       "      <th>9</th>\n",
       "      <td>Georgia</td>\n",
       "      <td>17.4</td>\n",
       "      <td>211</td>\n",
       "      <td>60</td>\n",
       "      <td>25.8</td>\n",
       "    </tr>\n",
       "  </tbody>\n",
       "</table>\n",
       "</div>"
      ],
      "text/plain": [
       "          City  Murder  Assault  UrbanPop  Rape\n",
       "0      Alabama    13.2      236        58  21.2\n",
       "1       Alaska    10.0      263        48  44.5\n",
       "2      Arizona     8.1      294        80  31.0\n",
       "3     Arkansas     8.8      190        50  19.5\n",
       "4   California     9.0      276        91  40.6\n",
       "5     Colorado     7.9      204        78  38.7\n",
       "6  Connecticut     3.3      110        77  11.1\n",
       "7     Delaware     5.9      238        72  15.8\n",
       "8      Florida    15.4      335        80  31.9\n",
       "9      Georgia    17.4      211        60  25.8"
      ]
     },
     "execution_count": 55,
     "metadata": {},
     "output_type": "execute_result"
    }
   ],
   "source": [
    "arrests_df = pd.read_csv('UsArrests.csv')\n",
    "arrests_df.head(10)"
   ]
  },
  {
   "cell_type": "markdown",
   "id": "6a4bf9ee-77b5-4f1c-9aef-d244dc8c33d3",
   "metadata": {},
   "source": [
    "**Determine the type of each variable**"
   ]
  },
  {
   "cell_type": "code",
   "execution_count": 56,
   "id": "fa929cb1-6fd2-4d6d-97c1-9cd67c9c94f6",
   "metadata": {},
   "outputs": [
    {
     "name": "stdout",
     "output_type": "stream",
     "text": [
      "<class 'pandas.core.frame.DataFrame'>\n",
      "RangeIndex: 50 entries, 0 to 49\n",
      "Data columns (total 5 columns):\n",
      " #   Column    Non-Null Count  Dtype  \n",
      "---  ------    --------------  -----  \n",
      " 0   City      50 non-null     object \n",
      " 1   Murder    50 non-null     float64\n",
      " 2   Assault   50 non-null     int64  \n",
      " 3   UrbanPop  50 non-null     int64  \n",
      " 4   Rape      50 non-null     float64\n",
      "dtypes: float64(2), int64(2), object(1)\n",
      "memory usage: 2.1+ KB\n"
     ]
    }
   ],
   "source": [
    "# Examine types\n",
    "arrests_df.info()"
   ]
  },
  {
   "cell_type": "markdown",
   "id": "d1225b87-c8ee-406e-8299-d3354539f2b4",
   "metadata": {},
   "source": [
    "**Summarise the properties of the columns**"
   ]
  },
  {
   "cell_type": "code",
   "execution_count": 57,
   "id": "531e23df-a970-4c88-8188-3e1a988b8536",
   "metadata": {},
   "outputs": [
    {
     "data": {
      "text/html": [
       "<div>\n",
       "<style scoped>\n",
       "    .dataframe tbody tr th:only-of-type {\n",
       "        vertical-align: middle;\n",
       "    }\n",
       "\n",
       "    .dataframe tbody tr th {\n",
       "        vertical-align: top;\n",
       "    }\n",
       "\n",
       "    .dataframe thead th {\n",
       "        text-align: right;\n",
       "    }\n",
       "</style>\n",
       "<table border=\"1\" class=\"dataframe\">\n",
       "  <thead>\n",
       "    <tr style=\"text-align: right;\">\n",
       "      <th></th>\n",
       "      <th>Murder</th>\n",
       "      <th>Assault</th>\n",
       "      <th>UrbanPop</th>\n",
       "      <th>Rape</th>\n",
       "    </tr>\n",
       "  </thead>\n",
       "  <tbody>\n",
       "    <tr>\n",
       "      <th>count</th>\n",
       "      <td>50.00000</td>\n",
       "      <td>50.000000</td>\n",
       "      <td>50.000000</td>\n",
       "      <td>50.000000</td>\n",
       "    </tr>\n",
       "    <tr>\n",
       "      <th>mean</th>\n",
       "      <td>7.78800</td>\n",
       "      <td>170.760000</td>\n",
       "      <td>65.540000</td>\n",
       "      <td>21.232000</td>\n",
       "    </tr>\n",
       "    <tr>\n",
       "      <th>std</th>\n",
       "      <td>4.35551</td>\n",
       "      <td>83.337661</td>\n",
       "      <td>14.474763</td>\n",
       "      <td>9.366385</td>\n",
       "    </tr>\n",
       "    <tr>\n",
       "      <th>min</th>\n",
       "      <td>0.80000</td>\n",
       "      <td>45.000000</td>\n",
       "      <td>32.000000</td>\n",
       "      <td>7.300000</td>\n",
       "    </tr>\n",
       "    <tr>\n",
       "      <th>25%</th>\n",
       "      <td>4.07500</td>\n",
       "      <td>109.000000</td>\n",
       "      <td>54.500000</td>\n",
       "      <td>15.075000</td>\n",
       "    </tr>\n",
       "    <tr>\n",
       "      <th>50%</th>\n",
       "      <td>7.25000</td>\n",
       "      <td>159.000000</td>\n",
       "      <td>66.000000</td>\n",
       "      <td>20.100000</td>\n",
       "    </tr>\n",
       "    <tr>\n",
       "      <th>75%</th>\n",
       "      <td>11.25000</td>\n",
       "      <td>249.000000</td>\n",
       "      <td>77.750000</td>\n",
       "      <td>26.175000</td>\n",
       "    </tr>\n",
       "    <tr>\n",
       "      <th>max</th>\n",
       "      <td>17.40000</td>\n",
       "      <td>337.000000</td>\n",
       "      <td>91.000000</td>\n",
       "      <td>46.000000</td>\n",
       "    </tr>\n",
       "  </tbody>\n",
       "</table>\n",
       "</div>"
      ],
      "text/plain": [
       "         Murder     Assault   UrbanPop       Rape\n",
       "count  50.00000   50.000000  50.000000  50.000000\n",
       "mean    7.78800  170.760000  65.540000  21.232000\n",
       "std     4.35551   83.337661  14.474763   9.366385\n",
       "min     0.80000   45.000000  32.000000   7.300000\n",
       "25%     4.07500  109.000000  54.500000  15.075000\n",
       "50%     7.25000  159.000000  66.000000  20.100000\n",
       "75%    11.25000  249.000000  77.750000  26.175000\n",
       "max    17.40000  337.000000  91.000000  46.000000"
      ]
     },
     "execution_count": 57,
     "metadata": {},
     "output_type": "execute_result"
    }
   ],
   "source": [
    "# Get the summary of the DataFrame\n",
    "arrests_df.describe()"
   ]
  },
  {
   "cell_type": "markdown",
   "id": "a9ed930c-0f4f-4dd1-a787-4af27bd3ea84",
   "metadata": {},
   "source": [
    "**Check for missing data on the dataset**"
   ]
  },
  {
   "cell_type": "code",
   "execution_count": 58,
   "id": "d44be496-c618-44e8-b04e-36668dd0acc7",
   "metadata": {},
   "outputs": [
    {
     "data": {
      "text/plain": [
       "City        0\n",
       "Murder      0\n",
       "Assault     0\n",
       "UrbanPop    0\n",
       "Rape        0\n",
       "dtype: int64"
      ]
     },
     "execution_count": 58,
     "metadata": {},
     "output_type": "execute_result"
    }
   ],
   "source": [
    "# Count missing values\n",
    "arrests_df.isnull().sum()"
   ]
  },
  {
   "cell_type": "markdown",
   "id": "13ed1e26-4165-413d-8ffa-ad24ba001387",
   "metadata": {},
   "source": [
    "**Use histogram to observe each feature**"
   ]
  },
  {
   "cell_type": "markdown",
   "id": "9127cf74-9dae-49c2-b73a-f33f1adf1d6c",
   "metadata": {},
   "source": [
    "Histograms to provide a visual representation of the distribution of values in each numerical column of the UsArrests dataset."
   ]
  },
  {
   "cell_type": "code",
   "execution_count": 59,
   "id": "beeee9c6-d9ff-4689-92f5-e7adce2fe484",
   "metadata": {},
   "outputs": [
    {
     "data": {
      "image/png": "[encoded data removed]",
      "text/plain": [
       "<Figure size 1500x1000 with 4 Axes>"
      ]
     },
     "metadata": {},
     "output_type": "display_data"
    }
   ],
   "source": [
    "# Plot histograms\n",
    "histograms = arrests_df.hist(color='blue', grid=False, figsize=(15, 10))\n",
    "plt.tight_layout()\n",
    "plt.show()"
   ]
  },
  {
   "cell_type": "markdown",
   "id": "897657d1-1f50-4b53-bb91-b884cd2e3c7b",
   "metadata": {},
   "source": [
    "**Show positive and negative correlation between features**"
   ]
  },
  {
   "cell_type": "markdown",
   "id": "ae7b7e87-8466-415c-bc4b-fc531b2d812c",
   "metadata": {},
   "source": [
    "The correlation matrix will show the correlation coefficients between each pair of numerical columns in the DataFrame."
   ]
  },
  {
   "cell_type": "code",
   "execution_count": 60,
   "id": "a0a7c01c-f47e-483c-b531-4872b520eaa8",
   "metadata": {},
   "outputs": [
    {
     "data": {
      "text/html": [
       "<div>\n",
       "<style scoped>\n",
       "    .dataframe tbody tr th:only-of-type {\n",
       "        vertical-align: middle;\n",
       "    }\n",
       "\n",
       "    .dataframe tbody tr th {\n",
       "        vertical-align: top;\n",
       "    }\n",
       "\n",
       "    .dataframe thead th {\n",
       "        text-align: right;\n",
       "    }\n",
       "</style>\n",
       "<table border=\"1\" class=\"dataframe\">\n",
       "  <thead>\n",
       "    <tr style=\"text-align: right;\">\n",
       "      <th></th>\n",
       "      <th>Murder</th>\n",
       "      <th>Assault</th>\n",
       "      <th>UrbanPop</th>\n",
       "      <th>Rape</th>\n",
       "    </tr>\n",
       "  </thead>\n",
       "  <tbody>\n",
       "    <tr>\n",
       "      <th>Murder</th>\n",
       "      <td>1.000000</td>\n",
       "      <td>0.801873</td>\n",
       "      <td>0.069573</td>\n",
       "      <td>0.563579</td>\n",
       "    </tr>\n",
       "    <tr>\n",
       "      <th>Assault</th>\n",
       "      <td>0.801873</td>\n",
       "      <td>1.000000</td>\n",
       "      <td>0.258872</td>\n",
       "      <td>0.665241</td>\n",
       "    </tr>\n",
       "    <tr>\n",
       "      <th>UrbanPop</th>\n",
       "      <td>0.069573</td>\n",
       "      <td>0.258872</td>\n",
       "      <td>1.000000</td>\n",
       "      <td>0.411341</td>\n",
       "    </tr>\n",
       "    <tr>\n",
       "      <th>Rape</th>\n",
       "      <td>0.563579</td>\n",
       "      <td>0.665241</td>\n",
       "      <td>0.411341</td>\n",
       "      <td>1.000000</td>\n",
       "    </tr>\n",
       "  </tbody>\n",
       "</table>\n",
       "</div>"
      ],
      "text/plain": [
       "            Murder   Assault  UrbanPop      Rape\n",
       "Murder    1.000000  0.801873  0.069573  0.563579\n",
       "Assault   0.801873  1.000000  0.258872  0.665241\n",
       "UrbanPop  0.069573  0.258872  1.000000  0.411341\n",
       "Rape      0.563579  0.665241  0.411341  1.000000"
      ]
     },
     "execution_count": 60,
     "metadata": {},
     "output_type": "execute_result"
    }
   ],
   "source": [
    "# Calculate the correlation matrix, exclude the city.\n",
    "correlation_matrix = arrests_df.iloc[:, 1:].corr()\n",
    "correlation_matrix"
   ]
  },
  {
   "cell_type": "code",
   "execution_count": 70,
   "id": "6bf48058-b230-4f96-8090-6b71f2ebf14a",
   "metadata": {},
   "outputs": [
    {
     "data": {
      "image/png": "[encoded data removed]",
      "text/plain": [
       "<Figure size 1000x800 with 2 Axes>"
      ]
     },
     "metadata": {},
     "output_type": "display_data"
    }
   ],
   "source": [
    "# Plot the heatmap\n",
    "plt.figure(figsize=(10, 8))\n",
    "sns.heatmap(correlation_matrix, annot=True, cmap='coolwarm')\n",
    "plt.title('Correlation Matrix of US Arrest Data')\n",
    "plt.show()"
   ]
  },
  {
   "cell_type": "markdown",
   "id": "5a29a56f-9c44-4fc4-9aab-1ac5a45e1361",
   "metadata": {},
   "source": [
    "**Murder and Assault:** A high positive correlation(0.8) suggests that cities with higher murder rates also tend to have higher assault rates.\n",
    "\n",
    "**UrbanPop and murder:** A very low positive correlation(0.07) indicates that cities with higher urban populations tend to have lower murder rates.\n",
    "\n",
    "**Assault and rape:** The correlation of 0.67, there is a strong relationship between assault rates and rape rates."
   ]
  },
  {
   "cell_type": "markdown",
   "id": "c9c8c8a8-2d86-4e50-992e-a3d8be1943c1",
   "metadata": {},
   "source": [
    "**Standardizing the Data**"
   ]
  },
  {
   "cell_type": "markdown",
   "id": "08c5bc7f-816e-414f-acd4-00c98dd3ebe5",
   "metadata": {},
   "source": [
    "PCA is sensitive to the scale of the data, so we need to standardize the features."
   ]
  },
  {
   "cell_type": "code",
   "execution_count": 62,
   "id": "cd53adc7-ce22-42e8-b8c1-ed21275a524c",
   "metadata": {},
   "outputs": [],
   "source": [
    "# Standardize the data\n",
    "scaler = StandardScaler()\n",
    "scaled_df = scaler.fit_transform(arrests_df.iloc[:, 1:])"
   ]
  },
  {
   "cell_type": "markdown",
   "id": "669af371-476f-435a-a7bc-b2d65bbcc457",
   "metadata": {},
   "source": [
    "**Perform PCA**"
   ]
  },
  {
   "cell_type": "markdown",
   "id": "af7f10d6-7a1a-4c0b-bfc7-8b5dbb24f1e1",
   "metadata": {},
   "source": [
    "Reduce the dimensionality of the dataset and interpret the principal component."
   ]
  },
  {
   "cell_type": "code",
   "execution_count": 63,
   "id": "6b7daace-a69c-489b-b556-619c248f2438",
   "metadata": {},
   "outputs": [
    {
     "data": {
      "text/html": [
       "<div>\n",
       "<style scoped>\n",
       "    .dataframe tbody tr th:only-of-type {\n",
       "        vertical-align: middle;\n",
       "    }\n",
       "\n",
       "    .dataframe tbody tr th {\n",
       "        vertical-align: top;\n",
       "    }\n",
       "\n",
       "    .dataframe thead th {\n",
       "        text-align: right;\n",
       "    }\n",
       "</style>\n",
       "<table border=\"1\" class=\"dataframe\">\n",
       "  <thead>\n",
       "    <tr style=\"text-align: right;\">\n",
       "      <th></th>\n",
       "      <th>PC1</th>\n",
       "      <th>PC2</th>\n",
       "      <th>City</th>\n",
       "    </tr>\n",
       "  </thead>\n",
       "  <tbody>\n",
       "    <tr>\n",
       "      <th>0</th>\n",
       "      <td>0.985566</td>\n",
       "      <td>-1.133392</td>\n",
       "      <td>Alabama</td>\n",
       "    </tr>\n",
       "    <tr>\n",
       "      <th>1</th>\n",
       "      <td>1.950138</td>\n",
       "      <td>-1.073213</td>\n",
       "      <td>Alaska</td>\n",
       "    </tr>\n",
       "    <tr>\n",
       "      <th>2</th>\n",
       "      <td>1.763164</td>\n",
       "      <td>0.745957</td>\n",
       "      <td>Arizona</td>\n",
       "    </tr>\n",
       "    <tr>\n",
       "      <th>3</th>\n",
       "      <td>-0.141420</td>\n",
       "      <td>-1.119797</td>\n",
       "      <td>Arkansas</td>\n",
       "    </tr>\n",
       "    <tr>\n",
       "      <th>4</th>\n",
       "      <td>2.523980</td>\n",
       "      <td>1.542934</td>\n",
       "      <td>California</td>\n",
       "    </tr>\n",
       "  </tbody>\n",
       "</table>\n",
       "</div>"
      ],
      "text/plain": [
       "        PC1       PC2        City\n",
       "0  0.985566 -1.133392     Alabama\n",
       "1  1.950138 -1.073213      Alaska\n",
       "2  1.763164  0.745957     Arizona\n",
       "3 -0.141420 -1.119797    Arkansas\n",
       "4  2.523980  1.542934  California"
      ]
     },
     "execution_count": 63,
     "metadata": {},
     "output_type": "execute_result"
    }
   ],
   "source": [
    "# Perform PCA\n",
    "pca = PCA(n_components=2)\n",
    "pca_result = pca.fit_transform(scaled_df)\n",
    "\n",
    "# Create a DataFrame with the PCA results\n",
    "pca_df = pd.DataFrame(data=pca_result, columns=['PC1', 'PC2'])\n",
    "pca_df['City'] = arrests_df['City']\n",
    "\n",
    "pca_df.head()"
   ]
  },
  {
   "cell_type": "markdown",
   "id": "f7834ecb-a57d-40ff-aa4c-63e3cad94496",
   "metadata": {},
   "source": [
    "**Explained Variance**\n",
    "\n",
    "Check the explained variance to understand how much information is retained by the principal components."
   ]
  },
  {
   "cell_type": "code",
   "execution_count": 64,
   "id": "3c770b46-41c9-4951-8492-937609776200",
   "metadata": {},
   "outputs": [
    {
     "name": "stdout",
     "output_type": "stream",
     "text": [
      "Explained variance by PC1: 0.6200603947873733\n",
      "Explained variance by PC2: 0.2474412881349604\n"
     ]
    }
   ],
   "source": [
    "explained_variance = pca.explained_variance_ratio_\n",
    "print(f\"Explained variance by PC1: {explained_variance[0]}\")\n",
    "print(f\"Explained variance by PC2: {explained_variance[1]}\")"
   ]
  },
  {
   "cell_type": "markdown",
   "id": "6aa9fea4-7f8b-41f0-b6a2-0429613b681f",
   "metadata": {},
   "source": [
    "**Explained variance by PC1:** This value(0.6200603947873733) indicates that the first principal component captures approximately 62% of the total variance in the dataset.\n",
    "\n",
    "**Explained variance by PC2:** This value(0.2474412881349604) indicates that the first principal component captures approximately 24.7% of the total variance in the dataset."
   ]
  },
  {
   "cell_type": "markdown",
   "id": "742f7131-edce-4004-9b4e-1297c1b966c8",
   "metadata": {},
   "source": [
    "## Clustering"
   ]
  },
  {
   "cell_type": "markdown",
   "id": "90da8108-d330-4ade-8fe4-94ce2b36e49c",
   "metadata": {},
   "source": [
    "**K-Means clustering**"
   ]
  },
  {
   "cell_type": "markdown",
   "id": "df21458c-269d-4d8e-a7b3-43e999d9b0e9",
   "metadata": {},
   "source": [
    "Add K-Means clustering to help get an understanding of how different cities group together based on their crime rates."
   ]
  },
  {
   "cell_type": "code",
   "execution_count": 65,
   "id": "1163349d-7b3c-4bee-9aeb-53582474a393",
   "metadata": {},
   "outputs": [
    {
     "data": {
      "text/html": [
       "<div>\n",
       "<style scoped>\n",
       "    .dataframe tbody tr th:only-of-type {\n",
       "        vertical-align: middle;\n",
       "    }\n",
       "\n",
       "    .dataframe tbody tr th {\n",
       "        vertical-align: top;\n",
       "    }\n",
       "\n",
       "    .dataframe thead th {\n",
       "        text-align: right;\n",
       "    }\n",
       "</style>\n",
       "<table border=\"1\" class=\"dataframe\">\n",
       "  <thead>\n",
       "    <tr style=\"text-align: right;\">\n",
       "      <th></th>\n",
       "      <th>PC1</th>\n",
       "      <th>PC2</th>\n",
       "      <th>City</th>\n",
       "      <th>KMeans_Cluster</th>\n",
       "    </tr>\n",
       "  </thead>\n",
       "  <tbody>\n",
       "    <tr>\n",
       "      <th>0</th>\n",
       "      <td>0.985566</td>\n",
       "      <td>-1.133392</td>\n",
       "      <td>Alabama</td>\n",
       "      <td>1</td>\n",
       "    </tr>\n",
       "    <tr>\n",
       "      <th>1</th>\n",
       "      <td>1.950138</td>\n",
       "      <td>-1.073213</td>\n",
       "      <td>Alaska</td>\n",
       "      <td>2</td>\n",
       "    </tr>\n",
       "    <tr>\n",
       "      <th>2</th>\n",
       "      <td>1.763164</td>\n",
       "      <td>0.745957</td>\n",
       "      <td>Arizona</td>\n",
       "      <td>2</td>\n",
       "    </tr>\n",
       "    <tr>\n",
       "      <th>3</th>\n",
       "      <td>-0.141420</td>\n",
       "      <td>-1.119797</td>\n",
       "      <td>Arkansas</td>\n",
       "      <td>1</td>\n",
       "    </tr>\n",
       "    <tr>\n",
       "      <th>4</th>\n",
       "      <td>2.523980</td>\n",
       "      <td>1.542934</td>\n",
       "      <td>California</td>\n",
       "      <td>2</td>\n",
       "    </tr>\n",
       "  </tbody>\n",
       "</table>\n",
       "</div>"
      ],
      "text/plain": [
       "        PC1       PC2        City  KMeans_Cluster\n",
       "0  0.985566 -1.133392     Alabama               1\n",
       "1  1.950138 -1.073213      Alaska               2\n",
       "2  1.763164  0.745957     Arizona               2\n",
       "3 -0.141420 -1.119797    Arkansas               1\n",
       "4  2.523980  1.542934  California               2"
      ]
     },
     "execution_count": 65,
     "metadata": {},
     "output_type": "execute_result"
    }
   ],
   "source": [
    "# Apply k-means clustering\n",
    "kmeans = KMeans(n_clusters=3, random_state=42)\n",
    "kmeans_labels = kmeans.fit_predict(scaled_df)\n",
    "\n",
    "# Add the cluster labels to the PCA DataFrame\n",
    "pca_df['KMeans_Cluster'] = kmeans_labels\n",
    "pca_df.head()"
   ]
  },
  {
   "cell_type": "markdown",
   "id": "27f24eec-0df0-44cd-a557-43f17438da8e",
   "metadata": {},
   "source": [
    "**Hierarchical Clustering**"
   ]
  },
  {
   "cell_type": "markdown",
   "id": "03a6507c-d2e9-4ba6-917f-ebf7d6701508",
   "metadata": {},
   "source": [
    "Add Hierarchical Cluster to help understand the relationship between cities based on their crime rates."
   ]
  },
  {
   "cell_type": "code",
   "execution_count": 68,
   "id": "022c9e99-0a5c-4768-bd16-e3ea6bcf2adf",
   "metadata": {},
   "outputs": [
    {
     "data": {
      "text/html": [
       "<div>\n",
       "<style scoped>\n",
       "    .dataframe tbody tr th:only-of-type {\n",
       "        vertical-align: middle;\n",
       "    }\n",
       "\n",
       "    .dataframe tbody tr th {\n",
       "        vertical-align: top;\n",
       "    }\n",
       "\n",
       "    .dataframe thead th {\n",
       "        text-align: right;\n",
       "    }\n",
       "</style>\n",
       "<table border=\"1\" class=\"dataframe\">\n",
       "  <thead>\n",
       "    <tr style=\"text-align: right;\">\n",
       "      <th></th>\n",
       "      <th>PC1</th>\n",
       "      <th>PC2</th>\n",
       "      <th>City</th>\n",
       "      <th>KMeans_Cluster</th>\n",
       "      <th>Hierarchical_cluster</th>\n",
       "      <th>Hierarchical_Cluster</th>\n",
       "    </tr>\n",
       "  </thead>\n",
       "  <tbody>\n",
       "    <tr>\n",
       "      <th>0</th>\n",
       "      <td>0.985566</td>\n",
       "      <td>-1.133392</td>\n",
       "      <td>Alabama</td>\n",
       "      <td>1</td>\n",
       "      <td>1</td>\n",
       "      <td>1</td>\n",
       "    </tr>\n",
       "    <tr>\n",
       "      <th>1</th>\n",
       "      <td>1.950138</td>\n",
       "      <td>-1.073213</td>\n",
       "      <td>Alaska</td>\n",
       "      <td>2</td>\n",
       "      <td>1</td>\n",
       "      <td>1</td>\n",
       "    </tr>\n",
       "    <tr>\n",
       "      <th>2</th>\n",
       "      <td>1.763164</td>\n",
       "      <td>0.745957</td>\n",
       "      <td>Arizona</td>\n",
       "      <td>2</td>\n",
       "      <td>1</td>\n",
       "      <td>1</td>\n",
       "    </tr>\n",
       "    <tr>\n",
       "      <th>3</th>\n",
       "      <td>-0.141420</td>\n",
       "      <td>-1.119797</td>\n",
       "      <td>Arkansas</td>\n",
       "      <td>1</td>\n",
       "      <td>3</td>\n",
       "      <td>3</td>\n",
       "    </tr>\n",
       "    <tr>\n",
       "      <th>4</th>\n",
       "      <td>2.523980</td>\n",
       "      <td>1.542934</td>\n",
       "      <td>California</td>\n",
       "      <td>2</td>\n",
       "      <td>1</td>\n",
       "      <td>1</td>\n",
       "    </tr>\n",
       "  </tbody>\n",
       "</table>\n",
       "</div>"
      ],
      "text/plain": [
       "        PC1       PC2        City  KMeans_Cluster  Hierarchical_cluster  \\\n",
       "0  0.985566 -1.133392     Alabama               1                     1   \n",
       "1  1.950138 -1.073213      Alaska               2                     1   \n",
       "2  1.763164  0.745957     Arizona               2                     1   \n",
       "3 -0.141420 -1.119797    Arkansas               1                     3   \n",
       "4  2.523980  1.542934  California               2                     1   \n",
       "\n",
       "   Hierarchical_Cluster  \n",
       "0                     1  \n",
       "1                     1  \n",
       "2                     1  \n",
       "3                     3  \n",
       "4                     1  "
      ]
     },
     "execution_count": 68,
     "metadata": {},
     "output_type": "execute_result"
    }
   ],
   "source": [
    "# Perform hierarchical clustering\n",
    "linked = linkage(scaled_df, method='ward')\n",
    "hierarchical_labels = fcluster(linked, t=3, criterion='maxclust')\n",
    "\n",
    "# Add the cluster labels to the PCA DataFrame\n",
    "pca_df['Hierarchical_Cluster'] = hierarchical_labels\n",
    "pca_df.head()"
   ]
  },
  {
   "cell_type": "markdown",
   "id": "d22c1030-32b1-4328-876b-f64e954abab3",
   "metadata": {},
   "source": [
    "**Visualize The Results**\n",
    "\n",
    "Visualize the PCA results and the clusters"
   ]
  },
  {
   "cell_type": "code",
   "execution_count": 69,
   "id": "3ce65d95-5278-4c25-a005-fb3630ae0688",
   "metadata": {},
   "outputs": [
    {
     "data": {
      "image/png": "[encoded data removed]",
      "text/plain": [
       "<Figure size 1000x600 with 1 Axes>"
      ]
     },
     "metadata": {},
     "output_type": "display_data"
    },
    {
     "data": {
      "image/png": "[encoded data removed]",
      "text/plain": [
       "<Figure size 1000x600 with 1 Axes>"
      ]
     },
     "metadata": {},
     "output_type": "display_data"
    }
   ],
   "source": [
    "# Plot PCA results with K-Means clusters\n",
    "plt.figure(figsize=(10, 6))\n",
    "sns.scatterplot(x='PC1', y='PC2', hue='KMeans_Cluster', data=pca_df, palette='viridis')\n",
    "plt.title('PCA with K-Means Cluster')\n",
    "plt.show()\n",
    "\n",
    "# Plot PCA results with Hierarchical clusters\n",
    "plt.figure(figsize=(10, 6))\n",
    "sns.scatterplot(x='PC1', y='PC2', hue='Hierarchical_Cluster', data=pca_df, palette='viridis')\n",
    "plt.title('PCA with Hierarchical Cluster')\n",
    "plt.show()"
   ]
  },
  {
   "cell_type": "markdown",
   "id": "aa1dc3a4-cea1-4536-8cbe-df72c5371c42",
   "metadata": {},
   "source": [
    "**K-Means Clustering:** The separation between clusters indicates that the K-Means algorithm has effectively grouped cities together based on their principal components.\n",
    "\n",
    "**Hierarchical Clustering:** The separation between clusters indicates that the hierarchical clustering algorithm has effectively grouped cities based on their crime rates."
   ]
  },
  {
   "cell_type": "code",
   "execution_count": null,
   "id": "39fcd443-279e-4da6-b3c5-0513373254ee",
   "metadata": {},
   "outputs": [],
   "source": []
  }
 ],
 "metadata": {
  "kernelspec": {
   "display_name": "Python 3 (ipykernel)",
   "language": "python",
   "name": "python3"
  },
  "language_info": {
   "codemirror_mode": {
    "name": "ipython",
    "version": 3
   },
   "file_extension": ".py",
   "mimetype": "text/x-python",
   "name": "python",
   "nbconvert_exporter": "python",
   "pygments_lexer": "ipython3",
   "version": "3.12.3"
  }
 },
 "nbformat": 4,
 "nbformat_minor": 5
}
